{
 "cells": [
  {
   "cell_type": "markdown",
   "metadata": {
    "nbpresent": {
     "id": "6f50de3f-c1e5-428a-b050-2201f9394876"
    }
   },
   "source": [
    "## Efficiency Analysis of Non-Ideal Rankine Cycles "
   ]
  },
  {
   "cell_type": "markdown",
   "metadata": {
    "nbpresent": {
     "id": "fac22eca-d48c-4fb8-9663-bc1e1a87b840"
    }
   },
   "source": [
    "First let's import some packages that will come in handy for our solution.  Note the two different packages from scipy for the interpolation, one for 1-D interpolation [docs](http://docs.scipy.org/doc/scipy/reference/tutorial/interpolate.html#id3) and one for 2-D interpolation [docs](http://docs.scipy.org/doc/scipy/reference/tutorial/interpolate.html#multivariate-data-interpolation-griddata) "
   ]
  },
  {
   "cell_type": "code",
   "execution_count": 1,
   "metadata": {
    "collapsed": false,
    "nbpresent": {
     "id": "0953522a-c27f-4247-a663-d647e2dc30e1"
    },
    "scrolled": true
   },
   "outputs": [
    {
     "name": "stdout",
     "output_type": "stream",
     "text": [
      "Populating the interactive namespace from numpy and matplotlib\n"
     ]
    }
   ],
   "source": [
    "import numpy as np\n",
    "from scipy.interpolate import griddata\n",
    "from scipy.interpolate import interp1d\n",
    "%pylab inline --no-import-all\n"
   ]
  },
  {
   "cell_type": "markdown",
   "metadata": {},
   "source": [
    "### 1) Define our primary Data Structure for this program"
   ]
  },
  {
   "cell_type": "code",
   "execution_count": 2,
   "metadata": {
    "collapsed": false
   },
   "outputs": [],
   "source": [
    "def new_state(p=None,T=None,v=None,h=None,s=None,x=None,state=None):\n",
    "    '''\n",
    "    Create a new Thermodynamic State variable (dictionary), \n",
    "       using the values of any of the specified parameters\n",
    "    \n",
    "    Input Parameters\n",
    "    -------------\n",
    "    p:  Pressure (kPa)\n",
    "    T:  Temperature (C)\n",
    "    v:  Specific Volume (m^3/kg)\n",
    "    h:  Enthalpy (kJ/kg)\n",
    "    s:  Entropy (kJ/kg K)\n",
    "    x:  Quality (value between 0 and 1)\n",
    "    state:  a string describing the state. Either 'saturated' or 'superheated'\n",
    "    \n",
    "    Return value\n",
    "    -----------\n",
    "    a Dictionary containing the values of the specified parameters, or None for the unspecified parameters\n",
    "    \n",
    "    Example\n",
    "    ----------\n",
    "    State1 = new_state(p = 8000, h=1500) \n",
    "          --> {'s': None, 'p': 8000, 'v': None, 'T': None, 'state': None, 'h': 1500, 'x': None}\n",
    "          \n",
    "    '''\n",
    "    \n",
    "    return dict(p=p,T=T,v=v,h=h,s=s,state=state,x=x)"
   ]
  },
  {
   "cell_type": "markdown",
   "metadata": {},
   "source": [
    "### 2) Define a Subroutine (function with no return value) to calculate the unknown values of the state properties"
   ]
  },
  {
   "cell_type": "code",
   "execution_count": 3,
   "metadata": {
    "collapsed": false,
    "nbpresent": {
     "id": "110f1079-1315-436d-8a7b-e23ae3a22e74"
    }
   },
   "outputs": [],
   "source": [
    "def calc_state(state):\n",
    "    \"\"\"\n",
    "    Determine the thermodynamic properties of a in both the Saturated or Superheated regions\n",
    "    \n",
    "    Important!  This function is written to behave like a SUBROUTINE.  There is no return statement.\n",
    "                The value of the input parameter \"state\" is modified to fill in any missing properties\n",
    "    \n",
    "    Input/Output Parameter\n",
    "    ----------\n",
    "    state : Dictionary that represents the thermodynamic state of the water/steam mixture. \n",
    "               This functions adds values for enthalpy (kJ/kg), entropy (kJ/(kg K)), \n",
    "               specific volume (m^3/kg), quality and temperature to \"state\"\n",
    "               \n",
    "            Important: The input state MUST have a specified PRESSURE (kPa) and at least one additional\n",
    "                       specified paramater, selected from (x,s,h or v)\n",
    "                       \n",
    "                       \n",
    "               \n",
    "    Examples\n",
    "    -------\n",
    "    >>> State1 = new_state(p = 8000, x=1)\n",
    "    >>> calc_state(State1)\n",
    "    >>> print(State1)\n",
    "              {'s': 5.7454897350293939, 'state': 'saturated', 'v': 0.023659805540533225,\n",
    "              'T': 294.87194943981365, 'h': 2758.3216344152956, 'x': 1, 'p': 8000}\n",
    "    >>> State1 = new_state(p = 8000, h=3500)\n",
    "    >>> calc_state(State1)\n",
    "    >>> print(State1)\n",
    "              {'T': 541.4344262295082, 'h': 3500, 'state': 'superheated', \n",
    "              's': 6.8543032786885245, 'v': None, 'x': None, 'p': 8000}\n",
    "    >>> State1 = new_state(p = 8000, h=1500)\n",
    "    >>> calc_state(State1)\n",
    "    >>> print(State1)\n",
    "              {'T': 294.87194943981365, 'h': 1500.0, 'state': 'saturated', 's': 3.5295611828432571, \n",
    "              'v': 0.0042186322759568979, 'x': 0.12722139389359188, 'p': 8000}\n",
    "\n",
    "    The text files:  sat_water_table.txt and superheated_water_table.txt are assumed \n",
    "    to be in the same folder as the ipynb file\n",
    "    \n",
    "    See Also\n",
    "    --------\n",
    "    CoolProp : http://www.coolprop.org\n",
    "    \"\"\"\n",
    "        \n",
    "    if state['p'] is None:                    # Pressure is required!! \n",
    "        raise NameError('Pressure was not specified')\n",
    "    #endif:  state['p'] is None\n",
    "    \n",
    "    # extract the individual values from the state    \n",
    "    pval=state['p'] / 100.0  #convert pressure from kPa to bar      \n",
    "    xval=state['x']\n",
    "    hval=state['h']\n",
    "    sval=state['s'] \n",
    "    vval=state['v']\n",
    "    tval=state['T']\n",
    "    stateval=state['state']\n",
    "\n",
    "    # are we KNOWN to be in the superheated region???\n",
    "    if stateval =='superheated':  # Yes!  so handle the superheated region\n",
    "                \n",
    "        tcol, hcol,scol,pcol = np.loadtxt('superheated_water_table.txt', \n",
    "                                          skiprows = 1, unpack = True)\n",
    "        \n",
    "        pval=pval*100   # this table wants kPa ... undo the earlier conversion\n",
    "\n",
    "        if tval is not None:   #Temperature is known, so calculate h, s and v\n",
    "            state['h'] = float(griddata((tcol, pcol), hcol, (tval,pval)))\n",
    "            state['s'] = float(griddata((tcol, pcol), scol, (tval,pval)))\n",
    "        elif hval is not None:   #Temperature is known, so calculate h, s and v\n",
    "            state['T'] = float(griddata((hcol, pcol), tcol, (hval,pval)))\n",
    "            state['s'] = float(griddata((hcol, pcol), scol, (hval,pval)))\n",
    "        elif sval is not None:   #Temperature is known, so calculate h, s and v\n",
    "            state['T'] = float(griddata((scol, pcol), tcol, (sval,pval)))\n",
    "            state['h'] = float(griddata((scol, pcol), hcol, (sval,pval)))\n",
    "        else:\n",
    "            raise NameError('Not enough properties specified in the superheated region') \n",
    "        #endif: \n",
    "        \n",
    "        state['x']=None\n",
    "        return None\n",
    "    \n",
    "    #endif:  ... are we superheated    \n",
    "              \n",
    "    # Assume we are in the saturated region ... until proven differently!\n",
    "    \n",
    "    # Read the saturated table data\n",
    "    tcol, pcol, hfcol, hgcol, sfcol, sgcol, vfcol, vgcol = \\\n",
    "                np.loadtxt('sat_water_table.txt', skiprows = 1, unpack = True)\n",
    "    \n",
    "    # Using the known pressure, interpolate on the saturation tables columns\n",
    "    # at the known pressure\n",
    "    \n",
    "    sf_func = interp1d(pcol, sfcol)  #this is the two line version of using interp1d\n",
    "    sfval=sf_func(pval)\n",
    "        \n",
    "    sgval = interp1d(pcol, sgcol)(pval)  #this is the one line version of using interp1d\n",
    "    vfval = interp1d(pcol, vfcol)(pval)\n",
    "    vgval = interp1d(pcol, vgcol)(pval)\n",
    "    hfval = interp1d(pcol, hfcol)(pval)\n",
    "    hgval = interp1d(pcol, hgcol)(pval)\n",
    "    tsat = interp1d(pcol, tcol)(pval)\n",
    "            \n",
    "    if xval is not None:  # x (quality) is known\n",
    "        if xval<0  :\n",
    "            raise NameError('Error - this function cannot operate in the sub-cooled region')\n",
    "            \n",
    "        elif xval > 1:     # now we know that we are in the SUPERHEATED region\n",
    "            state['state']= 'superheated'\n",
    "            calc_state(state)  #call calc_state to go back to the superheated code\n",
    "            return None           \n",
    "        else:              # now we know that we are in the SATURATED region\n",
    "            state['h'] =  hfval + xval * (hgval-hfval)\n",
    "            state['s'] =  sfval + xval * (sgval-sfval)\n",
    "            state['v'] =  vfval + xval * (vgval-vfval) \n",
    "            state['T'] = float(tsat)\n",
    "            state['state']='saturated'\n",
    "            return None\n",
    "        #endif:  x ...\n",
    "        \n",
    "    elif  hval is not None:\n",
    "        state['x']= (hval-hfval)/(hgval-hfval)\n",
    "        calc_state(state)\n",
    "    elif  sval is not None:\n",
    "        state['x']= (sval-sfval)/(sgval-sfval)\n",
    "        calc_state(state)\n",
    "    elif  vval is not None:\n",
    "        state['x']= (vval-vfval)/(vgval-vfval)\n",
    "        calc_state(state)\n",
    "    elif tval is not None:  #pressure and temperature were given ... we might be superheated\n",
    "        if tval > tsat:  #  we are in the superheated region\n",
    "            state['state']='superheated'\n",
    "            calc_state(state) #call calc_state to go back to the superheated code          \n",
    "        elif  tval <= tsat:  # we are in the subcooled region\n",
    "            raise NameError('This function cannot operate in the subcooled region')\n",
    "        #endif\n",
    "    else:\n",
    "        raise NameError('Not enough properties specified')        \n",
    "    #endif:  x is not None  \n"
   ]
  },
  {
   "cell_type": "code",
   "execution_count": 4,
   "metadata": {
    "collapsed": false
   },
   "outputs": [],
   "source": [
    "def print_state(state,name=None):\n",
    "    if name is not None:\n",
    "        print('State Name - {}'.format(name))\n",
    "    if state['state'] is not None:\n",
    "        print('{}'.format(state['state']))   \n",
    "    if state['T'] is not None:\n",
    "        print('T = {:.1f}'.format(state['T']))\n",
    "    if state['p'] is not None:\n",
    "        print('p = {:.2f}'.format(state['p']))\n",
    "    if state['h'] is not None:\n",
    "        print('h = {:.2f}'.format(state['h']))\n",
    "    if state['s'] is not None:\n",
    "        print('s = {:.5f}'.format(state['s']))\n",
    "    if state['v'] is not None:\n",
    "        print('v = {:.8f}'.format(state['v']))\n",
    "    if state['x'] is not None:\n",
    "        print('x = {:.5f}'.format(state['x']))\n",
    "    print('')\n",
    "    "
   ]
  },
  {
   "cell_type": "code",
   "execution_count": 5,
   "metadata": {
    "collapsed": false
   },
   "outputs": [
    {
     "name": "stdout",
     "output_type": "stream",
     "text": [
      "State Name - State1\n",
      "saturated\n",
      "T = 294.9\n",
      "p = 8000.00\n",
      "h = 2758.32\n",
      "s = 5.74549\n",
      "v = 0.02365981\n",
      "x = 1.00000\n",
      "\n",
      "State Name - State2\n",
      "superheated\n",
      "T = 541.4\n",
      "p = 8000.00\n",
      "h = 3500.00\n",
      "s = 6.85430\n",
      "\n",
      "saturated\n",
      "T = 294.9\n",
      "p = 8000.00\n",
      "h = 1500.00\n",
      "s = 3.52956\n",
      "v = 0.00421863\n",
      "x = 0.12722\n",
      "\n"
     ]
    }
   ],
   "source": [
    "# Test the calc_state function using the examples from the doc-string\n",
    "\n",
    "State1 = new_state(p = 8000, x=1)\n",
    "calc_state(State1)\n",
    "print_state(State1,name='State1')\n",
    "\n",
    "State2 = new_state(p = 8000, h=3500)\n",
    "calc_state(State2)\n",
    "print_state(State2,name='State2')\n",
    "\n",
    "State3 = new_state(p = 8000, h=1500)\n",
    "calc_state(State3)\n",
    "print_state(State3)\n"
   ]
  },
  {
   "cell_type": "code",
   "execution_count": 8,
   "metadata": {
    "collapsed": false
   },
   "outputs": [],
   "source": [
    "def Rankine_efficiency(p_high,p_mid,p_low,t_high,t_mid,turbine_efficiency,pump_efficiency):\n",
    "    \n",
    "    '''\n",
    "    A function to calculate the cycle efficiency (expressed in %) of the Non-Ideal Rankine cycle.  \n",
    "    \n",
    "    Input Parameters\n",
    "    ----------\n",
    "    p_high:  the pressure at the turbine inlet, in units of kPa\n",
    "    p_low:   the pressure at the turbine exit, in units of kPa\n",
    "    t_high:  (optional)  The fluid temperature at the turbine inlet.  If given, \n",
    "                this indicates that the fluid at the turbine inlet is superheated.\n",
    "                if omitted, then the fluid at the turbine inlet is saturated (x = 1)\n",
    "    turbine_efficiency:  (optional)  a value between 0 and 1  (1 means 100% efficient)\n",
    "    pump_efficiency:  (optional)  a value between 0 and 1 (1 means 100% efficient)\n",
    "                       \n",
    "    Return Value\n",
    "    -----------\n",
    "    The cycle efficiency expressed in percent (a value between 0% and 100%)\n",
    "    \n",
    "    Examples\n",
    "    -----------\n",
    "    Rankine_efficiency(8000,8)  -->  37.09\n",
    "    Rankine_efficiency(6000,12) -->  34.84\n",
    "    Rankine_efficiency(8000,8,turbine_efficiency=0.75, pump_efficiency=0.85) --> 27.70\n",
    "    Rankine_efficiency(8000,8,t_high= 450,turbine_efficiency=0.75, pump_efficiency=0.85) -->29.38\n",
    "    \n",
    "    '''\n",
    "\n",
    "    State1=new_state(p=p_high, T=t_high)  #Superheated\n",
    "    calc_state(State1)  #turbine inlet\n",
    "\n",
    "    State2s=new_state(p=p_mid,s=State1['s'])  # isentropic expansion\n",
    "    calc_state(State2s)\n",
    "    \n",
    "    h2=State1['h']-turbine_efficiency*(State1['h']-State2s['h'])\n",
    "    \n",
    "    State2=new_state(p=p_mid,h=h2)\n",
    "    calc_state(State2)\n",
    "\n",
    "    State1b=new_state(p=p_mid, T=t_mid)  #Superheated\n",
    "    calc_state(State1b)  #turbine inlet\n",
    "\n",
    "    State2bs=new_state(p=p_low,s=State1b['s'])  # isentropic expansion\n",
    "    calc_state(State2bs)\n",
    "    \n",
    "    h2b=State1b['h']-turbine_efficiency*(State1b['h']-State2bs['h'])\n",
    "    \n",
    "    State2b=new_state(p=p_low,h=h2b)\n",
    "    calc_state(State2b)\n",
    "    \n",
    "    \n",
    "    print_state(State1b,'1b')\n",
    "    print_state(State2bs,'2bs')\n",
    "    print_state(State2b,'2b')\n",
    "\n",
    "\n",
    "    State3=new_state(p=p_low, x = 0)  # condense to pure liquid (x=0)\n",
    "    calc_state(State3)\n",
    "\n",
    "    h4s=State3['h']+State3['v']*(p_high - p_low)   # pump equation for enthalpy increase\n",
    "\n",
    "    State4s=new_state(p=p_high,h=h4s)\n",
    "    # Note:  State4 is in the subcooled region, so we can't use calc_state\n",
    "    \n",
    "    h4=State3['h']+1/pump_efficiency*(h4s-State3['h'])\n",
    "\n",
    "    turbine_work=State1['h']-State2['h'] + State1b['h']-State2b['h']\n",
    "    pump_work=h4-State3['h']\n",
    "    heat_added = State1['h']-h4 + State1b['h']- State2['h']\n",
    "\n",
    "    efficiency=(turbine_work-pump_work)/heat_added*100\n",
    "\n",
    "    return efficiency\n"
   ]
  },
  {
   "cell_type": "code",
   "execution_count": 9,
   "metadata": {
    "collapsed": false
   },
   "outputs": [
    {
     "name": "stdout",
     "output_type": "stream",
     "text": [
      "State Name - 1b\n",
      "superheated\n",
      "T = 440.0\n",
      "p = 700.00\n",
      "h = 3353.30\n",
      "s = 7.76000\n",
      "\n",
      "State Name - 2bs\n",
      "saturated\n",
      "T = 41.4\n",
      "p = 8.00\n",
      "h = 2428.21\n",
      "s = 7.76000\n",
      "v = 17.20182596\n",
      "x = 0.93848\n",
      "\n",
      "State Name - 2b\n",
      "saturated\n",
      "T = 41.4\n",
      "p = 8.00\n",
      "h = 2566.97\n",
      "s = 8.20119\n",
      "v = 18.26037139\n",
      "x = 0.99623\n",
      "\n",
      "Rankine efficiency of system 3 is = 35.09\n"
     ]
    }
   ],
   "source": [
    "# Test the Rankine_efficiency function using the examples from the doc-string\n",
    "\n",
    "e=Rankine_efficiency(8000,700,8,480,440,0.85, 0.9)\n",
    "print('Rankine efficiency of system 3 is = {:.2f}'.format(e))"
   ]
  },
  {
   "cell_type": "code",
   "execution_count": null,
   "metadata": {
    "collapsed": true
   },
   "outputs": [],
   "source": []
  }
 ],
 "metadata": {
  "anaconda-cloud": {},
  "kernelspec": {
   "display_name": "Python [Root]",
   "language": "python",
   "name": "Python [Root]"
  },
  "language_info": {
   "codemirror_mode": {
    "name": "ipython",
    "version": 3
   },
   "file_extension": ".py",
   "mimetype": "text/x-python",
   "name": "python",
   "nbconvert_exporter": "python",
   "pygments_lexer": "ipython3",
   "version": "3.5.1"
  }
 },
 "nbformat": 4,
 "nbformat_minor": 0
}
